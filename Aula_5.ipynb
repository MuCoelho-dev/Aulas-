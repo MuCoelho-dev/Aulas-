{
  "nbformat": 4,
  "nbformat_minor": 0,
  "metadata": {
    "colab": {
      "provenance": [],
      "include_colab_link": true
    },
    "kernelspec": {
      "name": "python3",
      "display_name": "Python 3"
    },
    "language_info": {
      "name": "python"
    }
  },
  "cells": [
    {
      "cell_type": "markdown",
      "metadata": {
        "id": "view-in-github",
        "colab_type": "text"
      },
      "source": [
        "<a href=\"https://colab.research.google.com/github/MuCoelho-dev/Aulas-/blob/main/Aula_5.ipynb\" target=\"_parent\"><img src=\"https://colab.research.google.com/assets/colab-badge.svg\" alt=\"Open In Colab\"/></a>"
      ]
    },
    {
      "cell_type": "markdown",
      "source": [
        "#**Aula 05 - Manipulação de Arquivo**"
      ],
      "metadata": {
        "id": "i13pCCMa_Iy5"
      }
    },
    {
      "cell_type": "markdown",
      "source": [
        "##EXERCÍCIO 23 - Lendo Arquivos"
      ],
      "metadata": {
        "id": "L00X679N_axb"
      }
    },
    {
      "cell_type": "code",
      "source": [
        "from sys import argv #importa o modulo argv da biblioteca sys\n",
        "script, texto1 = argv #Parametros que devem ser capturados no terminal\n",
        "txt = open(texto1.txt) #Abre o arquivo\n",
        "\n",
        "print(f\"Here's your file {texto1.txt}:\")#imprimindo arquivo\n",
        "print(txt.read()) #Abre o conteúdo do arquivo no modo read e imprime\n",
        "print(\"Type the filename again:\") #Imprime a string pedindo para o usuário digitar novamente o nome de um arquivo\n",
        "file_again = input(\"> \") #Armazena a entrada do usuário na variável\n",
        "\n",
        "txt_again = open(file_again) #Abre o arquivo e armazena o arquivo aberto na variável\n",
        "\n",
        "print(txt_again.read()) #Exibe o conteúdo do novo arquivo aberto."
      ],
      "metadata": {
        "id": "JWBVDQYn_jtA"
      },
      "execution_count": null,
      "outputs": []
    },
    {
      "cell_type": "markdown",
      "source": [
        "##EXERCÍCIO 24 - Lendo e Gravando Arquivos"
      ],
      "metadata": {
        "id": "oguB4QDG_zAQ"
      }
    },
    {
      "cell_type": "code",
      "source": [
        "from sys import argv\n",
        "\n",
        "script, filename = argv\n",
        "\n",
        "print(f\"We´re going to erase (filename).\") #Informa ao usuário que o arquivo especificado será apagado.\n",
        "print(\"if you dont´t want that, hit CTRL-C (^C).\") #Dá a opção de cancelar a operação com CTRL-C.\n",
        "print(\"if you do want that, hit RETURN.\") #Caso o usuário queira continuar, basta pressionar ENTER.\n",
        "\n",
        "input(\"?\") #Aguarda o usuário pressionar ENTER para prosseguir.\n",
        "\n",
        "\n",
        "print(\"Opening the file...\") #Informa que o arquivo será aberto.\n",
        "\n",
        "target = open(\"C:\\Users\\Aluno\\Downloads\\111.txt\", 'w') #Abre o arquivo no modo escrita ('w'), que apaga o conteúdo anterior e prepara para escrever novos dados\n",
        "\n",
        "print(\"Truncating the file. Goodbye!\") #Informa que o arquivo será apagado (truncado).\n",
        "\n",
        "target.truncate() #Apaga todo o conteúdo do arquivo\n",
        "\n",
        "print(\"Now I´m going to ask you for three lines.\")  # Pede ao usuário que insira três linhas de texto.\n",
        "\n",
        "line1 = input(\"line 1: \")\n",
        "line2 = input(\"line 2: \")\n",
        "line3 = input(\"line 3: \")\n",
        "# Armazena as três linhas digitadas pelo usuário em variáveis.\n",
        "\n",
        "print(\"I´m going to write these to the file.\")\n",
        "# Informa que as linhas serão escritas no arquivo.\n",
        "\n",
        "\n",
        "target.write(line1)\n",
        "target.write(\"\\n\")\n",
        "target.write(line2)\n",
        "target.write(\"\\n\")\n",
        "target.write(line3)\n",
        "target.write(\"\\n\")\n",
        "# Escreve cada linha no arquivo, adicionando uma quebra de linha após cada uma para manter o formato.\n",
        "\n",
        "print(\"And finally, we close it.\") # Informa que o arquivo será fechado.\n",
        "target.close\n",
        "# Fecha o arquivo, garantindo que tudo seja salvo corretamente."
      ],
      "metadata": {
        "id": "pxHaxgpG_5yM"
      },
      "execution_count": null,
      "outputs": []
    },
    {
      "cell_type": "markdown",
      "source": [
        "### Novidades neste exercicio\n"
      ],
      "metadata": {
        "id": "641J7FsC4S9x"
      }
    },
    {
      "cell_type": "markdown",
      "source": [
        "*   Nova forma de abrir o arquivo (w);\n",
        "*   Trucamento = forma de apagar o arquivo;\n",
        "*   Target.write = escrever em determina linha."
      ],
      "metadata": {
        "id": "VkBGEqp4DW6B"
      }
    },
    {
      "cell_type": "markdown",
      "source": [
        "##EXERCÍCIO 25 - Mais Arquivos"
      ],
      "metadata": {
        "id": "-HKUG4_wCYpk"
      }
    },
    {
      "cell_type": "code",
      "source": [
        "from sys import argv\n",
        "from os.path import exists #importa a função exists para verificar se um arquivo existe no sistema.\n",
        "\n",
        "script, from_file, to_file = argv\n",
        "\n",
        "print(f\"Copying from {from_file} to {to_file}\")\n",
        "# imprime uma mensagem informando de qual arquivo estamos copiando e para qual arquivo.\n",
        "\n",
        "\n",
        "#Poderíamos fazer esses dois com uma linha, como?\n",
        "in_file = open(\"/content/drive/MyDrive/111.txt\")\n",
        "indata = in_file.read()\n",
        "#abre um arquivo específico e lê todo o seu conteúdo, armazenando na variável indata\n",
        "\n",
        "print(f\"The input file is {len(indata)} bytes long\")\n",
        "#informa o tamanho do conteúdo lido, em bytes.\n",
        "\n",
        "print(f\"Does the output file exist? {exists(to_file)}\")\n",
        "#verifica se o arquivo de destino já existe, usando a função exists, e imprime o resultado\n",
        "\n",
        "print(\"Ready, hit RETURN to continue, CTRL-C to abort.\")\n",
        "input()\n",
        "#pausa e espera o usuário pressionar Enter para continuar, ou CTRL-C para abortar.\n",
        "\n",
        "out_file = open(to_file, 'w')\n",
        "out_file.write(indata)\n",
        "#Abre o arquivo de destino to_file para escrita\n",
        "\n",
        "print(\"Alright, all done.\")\n",
        "#Informa que a cópia foi concluída.\n",
        "\n",
        "out_file.close()\n",
        "in_file.close()\n",
        "#fecha ambos os arquivos para liberar recursos e garantir que tudo foi salvo corretamente."
      ],
      "metadata": {
        "id": "js35u0ak5JLp"
      },
      "execution_count": null,
      "outputs": []
    },
    {
      "cell_type": "markdown",
      "source": [
        "##EXERCÍCIO 26 - Funções e Arquivos"
      ],
      "metadata": {
        "id": "K8OJxsH_NQ72"
      }
    },
    {
      "cell_type": "code",
      "source": [
        "\n",
        "from sys import argv\n",
        "\n",
        "script, input_file = argv\n",
        "\n",
        "def print_all(f):\n",
        "    print(f.read())\n",
        "\n",
        "def rewind (f):\n",
        "  f.seek(0)\n",
        "\n",
        "def print_a_line(line_count, f):\n",
        "    print(line_count, f.readline())\n",
        "#Define uma função chamada\n",
        "print_all\n",
        "que recebe um arquivo\n",
        "f\n",
        "e imprime todo o seu conteúdo usando\n",
        "f.read()\n",
        ".\n",
        "\n",
        "current_file = open(\"C:\\Users\\Aluno\\Downloads\\111.txt\")\n",
        "\n",
        "print(\"First let's print the whole file:\\n\")\n",
        "\n",
        "print_all(current_file)\n",
        "\n",
        "print(\"Now let's rewind, kind of like a tape.\")\n",
        "\n",
        "rewind(current_file)\n",
        "\n",
        "print(\"Let's print three lines:\")\n",
        "\n",
        "current_line = 1\n",
        "print_a_line(current_line, current_file)\n",
        "\n",
        "current_line = current_line + 1\n",
        "print_a_line(current_line, current_file)\n",
        "\n",
        "current_line = current_line + 1\n",
        "print_a_line(current_line, current_file)"
      ],
      "metadata": {
        "id": "HYBQfm8JNYma"
      },
      "execution_count": null,
      "outputs": []
    },
    {
      "cell_type": "markdown",
      "source": [
        "##EXERCÍCIO 27 - Mais prática"
      ],
      "metadata": {
        "id": "QpO9d6RWO9kR"
      }
    },
    {
      "cell_type": "code",
      "source": [
        "print(\"Let's practice everything.\")\n",
        "print('You\\'d need to know \\'bout escapes with \\\\ that do:')\n",
        "print('\\n newlines and \\t tabs.')\n",
        "\n",
        "poem = \"\"\"\n",
        "\\tThe lovely world\n",
        "with logic so firmly planted\n",
        "cannot discern \\n the needs of love\n",
        "nor comprehend passion from intuition\n",
        "and requires an explanation\n",
        "\\n\\t\\twhere there is none.\n",
        "\"\"\"\n",
        "\n",
        "print(\"----------\")\n",
        "print(poem)\n",
        "print(\"----------\")\n",
        "\n",
        "five = 10 - 2 + 3 - 6\n",
        "print(f\"This should be five: {five}\")\n",
        "\n",
        "def secret_formula(started):\n",
        "  jelly_beans = started * 500\n",
        "  jars = jelly_beans / 1000\n",
        "  crates = jars / 100\n",
        "  return jelly_beans, jars, crates\n",
        "\n",
        "start_point = 10000\n",
        "beans, jars, crates = secret_formula(start_point)\n",
        "\n",
        "#lembre-se de que essa é uma outra maneira de formatar uma string\n",
        "print(\"With a starting point of: {}\".format(start_point))\n",
        "#é como usar a string f\"\"\n",
        "print(f\"We'd have {beans} beans, {jars} jars, and {crates} crates.\")\n",
        "\n",
        "start_point = start_point / 10\n",
        "\n",
        "print(\"We can also do that this way:\")\n",
        "formula = secret_formula(start_point)\n",
        "#essa é uma maneira fácil de aplicar uma lista a uma string de formatação\n",
        "print(\"We'd have {} beans, {} jars, and {} crates.\".format(*formula))"
      ],
      "metadata": {
        "id": "pYaxjb-KrUFG"
      },
      "execution_count": null,
      "outputs": []
    },
    {
      "cell_type": "markdown",
      "source": [
        "##EXERCÍCIO 28 - Desvios e Funções"
      ],
      "metadata": {
        "id": "LmYpWZ589h6E"
      }
    },
    {
      "cell_type": "code",
      "source": [
        "from sys import exit\n",
        "\n",
        "def sala_de_ouro():\n",
        "  print(\"Esta sala está cheia de ouro. Quanto você pega?\")\n",
        "  print(\"Digite um número.\")\n",
        "\n",
        "  escolha = input(\"> \")\n",
        "  if \"0\" in escolha or \"1\" in escolha:\n",
        "    quanto = int(escolha)\n",
        "  else:\n",
        "    morrer(\"Cara, aprenda a digitar um número.\")\n",
        "\n",
        "  if quanto < 50:\n",
        "    print(\"Legal, você não é ganancioso, você venceu!\")\n",
        "    exit(0)\n",
        "  else:\n",
        "    morrer(\"Seu ganancioso!\")\n",
        "\n",
        "def sala_do_urso():\n",
        "  print(\"Há um urso aqui.\")\n",
        "  print(\"O urso tem um monte de mel.\")\n",
        "  print(\"O urso gordo está na frente de outra porta.\")\n",
        "  print(\"O que você faz?\")\n",
        "  print(\"Opções: 'pegar mel', 'provocar urso'.\")\n",
        "  urso_movido = False\n",
        "\n",
        "  while True:\n",
        "    escolha = input(\"> \")\n",
        "\n",
        "    if escolha == 'pegar mel':\n",
        "      morrer(\"O urso olha para você e arranca sua cara com uma patada.\")\n",
        "    elif escolha == \"provocar urso\" and not urso_movido:\n",
        "      print(\"O urso se moveu da porta.\")\n",
        "      print(\"Você pode 'abrir porta' agora.\")\n",
        "      urso_movido = True\n",
        "    elif escolha == \"provocar urso\" and urso_movido:\n",
        "      morrer(\"O urso fica bravo e arranca sua perna.\")\n",
        "    elif escolha == \"abrir porta\" and urso_movido:\n",
        "      sala_do_ouro()\n",
        "    else:\n",
        "      print(\"Não entendi sua escolha. Tente novamente.\")\n",
        "\n",
        "def sala_de_cthulhu():\n",
        "  print(\"Aqui você vê o grande mal, Cthulhu.\")\n",
        "  print(\"Ele, isso, seja lá o que for, olha para você e você enlouquece.\")\n",
        "  print(\"O que você faz?\")\n",
        "  print(\"Opções: 'foge', 'cabeça'.\")\n",
        "\n",
        "  escolha = input(\"> \")\n",
        "\n",
        "  if \"foge\" in escolha:\n",
        "    comecar()\n",
        "  elif \"cabeça\" in escolha:\n",
        "    morrer(\"Bem, isso foi gostoso!\")\n",
        "  else:\n",
        "    sala_de_cthulhu()\n",
        "\n",
        "def morrer(porque):\n",
        "  print(porque, \"Bom trabalho!\")\n",
        "  return \"The game in over\"\n",
        "\n",
        "def comecar():\n",
        "  print(\"Você está em uma sala escura.\")\n",
        "  print(\"Há uma porta à sua direita e à sua esquerda.\")\n",
        "  print(\"Qual você pega?\")\n",
        "  print(\"Opções: 'esquerda', 'direita'.\")\n",
        "\n",
        "  escolha = input(\"> \")\n",
        "\n",
        "  if escolha == \"esquerda\":\n",
        "    sala_do_urso()\n",
        "  elif escolha == \"direita\":\n",
        "    sala_de_cthulhu()\n",
        "  else:\n",
        "    morrer(\"Você tropeça pela sala até morrer de fome.\")\n",
        "\n",
        "\n",
        "comecar()\n"
      ],
      "metadata": {
        "id": "YmOvme7P9nr1"
      },
      "execution_count": null,
      "outputs": []
    }
  ]
}