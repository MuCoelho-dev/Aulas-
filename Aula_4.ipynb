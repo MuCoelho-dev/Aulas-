{
  "nbformat": 4,
  "nbformat_minor": 0,
  "metadata": {
    "colab": {
      "provenance": [],
      "include_colab_link": true
    },
    "kernelspec": {
      "name": "python3",
      "display_name": "Python 3"
    },
    "language_info": {
      "name": "python"
    }
  },
  "cells": [
    {
      "cell_type": "markdown",
      "metadata": {
        "id": "view-in-github",
        "colab_type": "text"
      },
      "source": [
        "<a href=\"https://colab.research.google.com/github/MuCoelho-dev/Aulas-/blob/main/Aula_4.ipynb\" target=\"_parent\"><img src=\"https://colab.research.google.com/assets/colab-badge.svg\" alt=\"Open In Colab\"/></a>"
      ]
    },
    {
      "cell_type": "markdown",
      "source": [
        "# **Aula 4 - Fundamento da Linguagem Python**\n",
        "\n",
        "*   Laços de Repetição\n",
        "*   Listas\n",
        "*   Funções\n",
        "\n"
      ],
      "metadata": {
        "id": "37R4Upth33Xc"
      }
    },
    {
      "cell_type": "markdown",
      "source": [
        "##EXERCÍCIO 16 - Loops e Listas"
      ],
      "metadata": {
        "id": "EA1ep90AJsbf"
      }
    },
    {
      "cell_type": "code",
      "source": [
        "the_count = [1, 2, 3, 4, 5]\n",
        "fruits = ['apples', 'oranges', 'pears', 'apricots']\n",
        "change = [1, 'pennies', 2, 'dimes', 3, 'quarters']\n",
        "\n",
        "for number in the_count:\n",
        "  print(f\"This is count {number}\")\n",
        "\n",
        "for fruit in fruits:\n",
        "  print(f\"A fruit of type: {fruit}\")\n",
        "\n",
        "for i in change:\n",
        "  print(f\"I got {i}\")\n",
        "\n",
        "elements = [] #Cria uma lista vazia chamada elements\n",
        "\n",
        "for i in range(0, 6):\n",
        "  print(f\"Adding {i} to the list.\")\n",
        "\n",
        "  elements.append(i)\n",
        "\n",
        "for i in elements:\n",
        "  print(f\"Element was: {i}\")"
      ],
      "metadata": {
        "id": "ZCdscKb34Msa"
      },
      "execution_count": null,
      "outputs": []
    },
    {
      "cell_type": "markdown",
      "source": [
        "###Novidades neste exercício"
      ],
      "metadata": {
        "id": "qKjz0RmVbXoH"
      }
    },
    {
      "cell_type": "markdown",
      "source": [
        "*   Utilização do laço \"for\" para percorrer os itens da lista indicada executando um bloco de código para cada item da variável indicada;\n",
        "*   Utilização do \"append\" para inserir itens em uma lista;\n",
        "*   Utilização do \"Range para gerar uma sequência de números dentro de um intervalo determinado;\n",
        "*   Utilização do \"f\" em string para inserir variáveis diretamente dentro dela;\n",
        "*   Criação de lista vazia."
      ],
      "metadata": {
        "id": "_BnswpCcStKe"
      }
    },
    {
      "cell_type": "markdown",
      "source": [
        "##EXERCÍCIO 17 - Loops While"
      ],
      "metadata": {
        "id": "3rqc01wl5oj4"
      }
    },
    {
      "cell_type": "code",
      "source": [
        "i = 0 #inicialização da variável i como 0, é o contador do lado while\n",
        "numbers = []\n",
        "\n",
        "while i < 6: #Condição para o laço de repetição\n",
        "  print(f\"At the top i is {i}\")\n",
        "  numbers.append(i) #Insere na lista numbers o valor de i\n",
        "\n",
        "  i = i + 1 #incrementa 1 no contador\n",
        "  print(\"Numbers now: \", numbers)\n",
        "  print(f\"At the bottom i is {i}\")\n",
        "\n",
        "print(\"The numbers: \")\n",
        "for num in numbers:\n",
        "  print(num)"
      ],
      "metadata": {
        "id": "3wY9MZ1S50me"
      },
      "execution_count": null,
      "outputs": []
    },
    {
      "cell_type": "markdown",
      "source": [
        "###Novidades neste exercício"
      ],
      "metadata": {
        "id": "9g5sQUFib11l"
      }
    },
    {
      "cell_type": "markdown",
      "source": [
        "*   Utilização do laço de repetição while que executa o bloco de código enquanto a condição for verdadeira e se falsa finaliza a execução.\n",
        "\n"
      ],
      "metadata": {
        "id": "4--FOgW4k4S5"
      }
    },
    {
      "cell_type": "markdown",
      "source": [
        "###Erros que cometi neste exercício"
      ],
      "metadata": {
        "id": "WnYfEcgHbik9"
      }
    },
    {
      "cell_type": "markdown",
      "source": [
        "1. Não recuei o print na linha 5"
      ],
      "metadata": {
        "id": "JdAu6hlHbmc4"
      }
    },
    {
      "cell_type": "markdown",
      "source": [
        "##EXERCÍCIO 18 - Nomes, Variáveis, Códigos, Funções"
      ],
      "metadata": {
        "id": "s6Dw2CW97c4q"
      }
    },
    {
      "cell_type": "code",
      "source": [
        "def print_two(*args): #Define função com parâmetros variáveis\n",
        "  arg1, arg2 = args #Separa o args em duas variáveis\n",
        "  print(f\"arg1: {arg1}, arg2: {arg2}\")\n",
        "\n",
        "def print_two_again(arg1, arg2):\n",
        "  print(f\"arg1: {arg1}, arg2: {arg2}\")\n",
        "\n",
        "def print_one(arg1):\n",
        "  print(f\"arg1: {arg1}\")\n",
        "\n",
        "def print_none():\n",
        "  print(\"I got nothin'.\")\n",
        "\n",
        "print_two(\"Zed\", \"Shaw\") #Chama a função print_two e inclui dois argumentos\n",
        "print_two_again(\"Zed\", \"Shaw\") #Chama a função print_two_again e inclui dois argumentos\n",
        "print_one(\"First!\") #Chama a função print_one e inclui um argumento\n",
        "print_none() #Chama a função print_none\n"
      ],
      "metadata": {
        "id": "i2i2Dx537msB"
      },
      "execution_count": null,
      "outputs": []
    },
    {
      "cell_type": "markdown",
      "source": [
        "###Novidades neste exercício"
      ],
      "metadata": {
        "id": "2ZG_qglkc_Ih"
      }
    },
    {
      "cell_type": "markdown",
      "source": [
        "*   Utilização do \"def\" para definir funções que recebem determinados parâmetros e que podem ser chamadas em diferentes partes do programa;\n",
        "*   Utilização do \"*arg\" para passar um número variável de argumentos para a função."
      ],
      "metadata": {
        "id": "OZRzv3jCol-u"
      }
    },
    {
      "cell_type": "markdown",
      "source": [
        "###Erros que cometi nesse exercício"
      ],
      "metadata": {
        "id": "uGChAxxRcO8K"
      }
    },
    {
      "cell_type": "markdown",
      "source": [
        "1. Escrevi print errado na linha 9 que gerou erro também na linha 16"
      ],
      "metadata": {
        "id": "i4HgOhRBcRfg"
      }
    },
    {
      "cell_type": "markdown",
      "source": [
        "##EXERCÍCIO 19 - Funções e Variáveis"
      ],
      "metadata": {
        "id": "K71ArPJQ8uOq"
      }
    },
    {
      "cell_type": "code",
      "source": [
        "def cheese_and_crackers(cheese_count, boxes_of_crackers): #Define função com dois parâmetros\n",
        "  print(f\"You have {cheese_count} cheeses!\")\n",
        "  print(f\"You have {boxes_of_crackers} boxes of crackers!\")\n",
        "  print(\"Man that's enough for a party!\")\n",
        "  print(\"Get a blanket.\\n\")\n",
        "\n",
        "print(\"We can just give the function numbers directly:\")\n",
        "cheese_and_crackers(20, 30) #Chama a função cheese_and_crackers incluindo dois parâmetros numéricos\n",
        "\n",
        "print(\"OR, we can use variables from our script:\")\n",
        "amount_of_cheese = 10\n",
        "amount_of_crackers = 50\n",
        "\n",
        "cheese_and_crackers(amount_of_cheese, amount_of_crackers)\n",
        "\n",
        "print(\"We can even do math inside too:\")\n",
        "cheese_and_crackers(10 + 20, 5 + 6)\n",
        "\n",
        "print(\"And we can combine the two, variables and math:\")\n",
        "cheese_and_crackers(amount_of_cheese + 100, amount_of_crackers + 1000)"
      ],
      "metadata": {
        "id": "OHl_ZwlV81iZ"
      },
      "execution_count": null,
      "outputs": []
    },
    {
      "cell_type": "markdown",
      "source": [
        "###Erros que cometi neste exercício"
      ],
      "metadata": {
        "id": "170_YNHEcugX"
      }
    },
    {
      "cell_type": "markdown",
      "source": [
        "1. Escrevi \"an\" ao invés de \"and\" na linha 17"
      ],
      "metadata": {
        "id": "5TNUNDBDcxv7"
      }
    },
    {
      "cell_type": "markdown",
      "source": [
        "##EXERCÍCIO 20 - As funções podem retornar algo"
      ],
      "metadata": {
        "id": "ncWxy1HvEnJu"
      }
    },
    {
      "cell_type": "code",
      "source": [
        "def add(a, b): #Define função add\n",
        "  print(f\"ADDING {a} + {b}\")\n",
        "  return a + b #retorna o resultado\n",
        "\n",
        "def subtract(a, b):\n",
        "  print(f\"SUBTRACTING {a} - {b}\")\n",
        "  return a - b\n",
        "\n",
        "def multiply(a, b):\n",
        "  print(f\"MULTIPLYING {a} * {b}\")\n",
        "  return a * b\n",
        "\n",
        "def divide(a, b):\n",
        "  print(f\"DIVIDING {a} / {b}\")\n",
        "  return a / b\n",
        "\n",
        "\n",
        "print(\"Let's do some math with just functions!\")\n",
        "\n",
        "age = add(30, 5) #A variável guarda o resultado da adição\n",
        "height = subtract(78, 4)\n",
        "weight = multiply(90, 2)\n",
        "iq = divide(100, 2)\n",
        "\n",
        "print(f\"Age: {age}, Height: {height}, Weight: {weight}, IQ: {iq}\")\n",
        "\n",
        "\n",
        "# Uma charada para ponto extra, digite isso.\n",
        "print(\"Here is a puzzle.\")\n",
        "what = add(age, subtract(height, multiply(weight, divide(iq, 2))))\n",
        "print(\"That becomes: \", what, \"Can you do it by hand?\")"
      ],
      "metadata": {
        "id": "NbdgsxpJEvWG"
      },
      "execution_count": null,
      "outputs": []
    },
    {
      "cell_type": "markdown",
      "source": [
        "###Novidades neste exercício"
      ],
      "metadata": {
        "id": "sMrcpO3T6ysr"
      }
    },
    {
      "cell_type": "markdown",
      "source": [
        "*   Criação de funções que recebem parâmetros e retornam valores."
      ],
      "metadata": {
        "id": "cCbEbfiB62FU"
      }
    },
    {
      "cell_type": "markdown",
      "source": [
        "###Erros que cometi neste exercício"
      ],
      "metadata": {
        "id": "iurwNmk_dVAc"
      }
    },
    {
      "cell_type": "markdown",
      "source": [
        "1. Não incluí a linha com o \"return\" de subtração e multiplicação."
      ],
      "metadata": {
        "id": "5f5ubvc5eFqQ"
      }
    },
    {
      "cell_type": "markdown",
      "source": [
        "##EXERCÍCIO 21 - Parâmetros, Descompactação e Variáveis"
      ],
      "metadata": {
        "id": "85Z9i3QQ_Yla"
      }
    },
    {
      "cell_type": "code",
      "source": [
        "from sys import argv #Importa o módulo argv da biblioteca sys\n",
        "script, first, second, third = argv #Parâmetros que devem ser capturados através do terminal\n",
        "\n",
        "print(\"The script is called:\", script) #imprime o nome do arquivo python que está sendo executado\n",
        "print(\"Your fisrt variable is:\", first) #imprime a string com o primeiro parâmetro capturado\n",
        "print(\"Your second variable is\", second) #imprime a string com o segundo parâmetro capturado\n",
        "print(\"Your third variable is\", third) #imprime a string com o terceiro parâmetro capturado"
      ],
      "metadata": {
        "id": "5l6L9oxF_gFe"
      },
      "execution_count": null,
      "outputs": []
    },
    {
      "cell_type": "markdown",
      "source": [
        "###Novidades neste exercício"
      ],
      "metadata": {
        "id": "L5k1ng5oelHZ"
      }
    },
    {
      "cell_type": "markdown",
      "source": [
        "*   Importar módulos de uma biblioteca;\n",
        "*   Utilização do \"argv\" para registrar parâmetros inseridos na linha de comando."
      ],
      "metadata": {
        "id": "1mhj_K1172gH"
      }
    },
    {
      "cell_type": "markdown",
      "source": [
        "##EXERCÍCIO 22 - Parâmetros, Descompactação e Variáveis"
      ],
      "metadata": {
        "id": "c8iVSOiUI9ZV"
      }
    },
    {
      "cell_type": "code",
      "source": [
        "from sys import argv #Importa o módulo argv da biblioteca sys\n",
        "\n",
        "script, user_name = argv #Divide o argv em duas variáveis\n",
        "prompt = '> ' #Exibe o símbolo antes da entrada do usuário\n",
        "\n",
        "print(f\"Hi {user_name}, I'm the {script} script.\")\n",
        "print(\"I'd like to ask you a few questions.\")\n",
        "print(f\"Do you like me {user_name}?\")\n",
        "likes = input (prompt) #Exibe a variável prompt e armazena a entrada do usuário na variável likes\n",
        "\n",
        "print(f\"Where do you live {user_name}?\")\n",
        "lives = input (prompt) #Exibe a variável prompt e armazena a entrada do usuário na variável lives\n",
        "\n",
        "print(\"What kind of computer do you have?\")\n",
        "computer = input (prompt) #Exibe a variável prompt e armazena a entrada do usuário na variável computer\n",
        "\n",
        "print(f\"\"\"\n",
        "      Alright, so you said {likes} about liking me.\n",
        "      You live in {lives}. Not sure where that is.\n",
        "      And you have a {computer} computer. Nice.\n",
        "\"\"\")"
      ],
      "metadata": {
        "id": "Q5GoMQ0mJYXM"
      },
      "execution_count": null,
      "outputs": []
    }
  ]
}