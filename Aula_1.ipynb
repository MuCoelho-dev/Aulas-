{
  "nbformat": 4,
  "nbformat_minor": 0,
  "metadata": {
    "colab": {
      "provenance": [],
      "toc_visible": true,
      "include_colab_link": true
    },
    "kernelspec": {
      "name": "python3",
      "display_name": "Python 3"
    },
    "language_info": {
      "name": "python"
    }
  },
  "cells": [
    {
      "cell_type": "markdown",
      "metadata": {
        "id": "view-in-github",
        "colab_type": "text"
      },
      "source": [
        "<a href=\"https://colab.research.google.com/github/MuCoelho-dev/Aulas-/blob/main/Aula_1.ipynb\" target=\"_parent\"><img src=\"https://colab.research.google.com/assets/colab-badge.svg\" alt=\"Open In Colab\"/></a>"
      ]
    },
    {
      "cell_type": "markdown",
      "source": [
        "# **Primeiros Passos com Python**\n",
        "\n",
        "\n",
        "1.   Entrada\n",
        "2.   Processamento\n",
        "3.   Saída\n",
        "4.   Comentários\n",
        "\n"
      ],
      "metadata": {
        "id": "Uvw0GvcyKMfR"
      }
    },
    {
      "cell_type": "markdown",
      "source": [
        "## EXERCÍCIO 1 - Um Bom Programa Inicial\n",
        "\n",
        "O primeiro passo para usar linhas de código em alguma linguagem (saída de dados)"
      ],
      "metadata": {
        "id": "GAlYURYTKjei"
      }
    },
    {
      "cell_type": "code",
      "source": [
        "print(\"Hello World!\")\n",
        "print(\"Hello Again.\")\n",
        "\n",
        "print(\"I like Typing this.\")\n",
        "print(\"Yay! Printing.\")\n",
        "\n",
        "print(\"i'd much rather you not.\")\n",
        "print(\"I said do not touch this\")"
      ],
      "metadata": {
        "id": "Vl39lTR5K2JH"
      },
      "execution_count": null,
      "outputs": []
    },
    {
      "cell_type": "markdown",
      "source": [
        "##EXERCÍCIO 2 - Comentários e Cerquilhas\n",
        "\n",
        "Compreender o uso de comentários para minhas linhas de códigos;"
      ],
      "metadata": {
        "id": "IAQxHimML0tv"
      }
    },
    {
      "cell_type": "code",
      "source": [
        "# Um comentário, assim vocÊ pode ler seu programa mais tarde.\n",
        "# Qualquer coisa depois de # é ignorada pelo Python.\n",
        "\n",
        "print(\"I could have codelike this.\") # e o comentário depois ignorado\n",
        "\n",
        "# Você também pode usar um comentário para desabilitar um código:\n",
        "#print(\"This won't run.\")\n",
        "\n",
        "print('This will run')"
      ],
      "metadata": {
        "id": "7XPRuKAqL-7J"
      },
      "execution_count": null,
      "outputs": []
    },
    {
      "cell_type": "markdown",
      "source": [
        "##EXERCÍCIO 3 - Números e Matemática\n",
        "\n",
        "Primeiras operações matemáticas, dentro da instrução de saída de dados;"
      ],
      "metadata": {
        "id": "e9bD_dmwMa5D"
      }
    },
    {
      "cell_type": "code",
      "source": [
        "#inicia com um texto sobre o que sera feito no resto do programa\n",
        "print(\"I will now count my chickens:\")\n",
        "#irá concatenar o texto netre aspas com o resultado das operações após as vírgulas\n",
        "print(\"Hens\", 25 + 30 / 6)\n",
        "print(\"Roosters\", 100 - 25 * 3 % 4)\n",
        "#inicia com um texto sobre o que será feito no resto do programa\n",
        "print(\"Now I will count the eggs:\")\n",
        "#irá realizar uma operação matemática\n",
        "print(3 + 2 + 1 - 5 + 4 % 2 - 1 / 4 + 6)\n",
        "#inicia com um texto sobre o que será feito no resto do programa\n",
        "print(\"Is it true that 3 + 2 < 5 - 7?\")\n",
        "#realizar uma operação relacionando em que o resultado é booleano\n",
        "print(3 + 2 < 5 - 7)\n",
        "#inicia inicia com um texto sobre o que será feito no resto do programa\n",
        "print(\"What is 3 + 2?\", 3 + 2)\n",
        "print(\"Whats is 5 - 7?\", 5 - 7)\n",
        "#inicia com um texto sobre o que será feito no resto do programa\n",
        "print(\"Oh, that's why it's False.\")\n",
        "#inicia com um texto sobre o que será feito no resto do programa\n",
        "print(\"AHow about some more.\")\n",
        "#texto com operações relacionais\n",
        "print(\"Is it greater?\", 5 > -2)\n",
        "print(\"Is it greater or equal?\", 5 >= -2)\n",
        "print(\"Is it less or equal?\", 5 <= -2)"
      ],
      "metadata": {
        "id": "BrDtwkYQMoos"
      },
      "execution_count": null,
      "outputs": []
    },
    {
      "cell_type": "markdown",
      "source": [
        "##EXERCÍCIO 4 - Variáveis e Nomes\n",
        "\n",
        "Declarar variáveis e seus rótulos;"
      ],
      "metadata": {
        "id": "AwpfGtGNC-H2"
      }
    },
    {
      "cell_type": "code",
      "source": [
        "cars = 100 #atribuindo um úmero inteiro\n",
        "spaceInACar = 4.0 #atribuindo um número real\n",
        "drivers = 30 #atribuindo um número inteiro\n",
        "passengers = 90 #atribuindo um número inteiro\n",
        "carsNotDriven = cars - drivers #operação aritmética entre inteiro e inteiro\n",
        "carsDriven = drivers #atribuição de valor entre variáveis sem operação\n",
        "carpoolCapacity = carsDriven * spaceInACar #atribuindo o resultado de uma operação aritmética entre inteiro e real\n",
        "averagePassengersPerCar = passengers / carsDriven #atribuindo o resultado de uma operação aritmética entre inteiro e inteiro\n",
        "\n",
        "print(\"There are\", cars, \"cars available.\")\n",
        "print(\"There are only\", drivers, \"drivers available.\")\n",
        "print(\"There will be\", carsNotDriven, \"empty cars today.\")\n",
        "print(\"We can transport\", carpoolCapacity, \"people today.\")\n",
        "print(\"We have\", passengers, \"to carpool today.\")\n",
        "print(\"We need to put about\", averagePassengersPerCar, \"in each car.\")\n",
        "print(10/5)"
      ],
      "metadata": {
        "id": "CQazl5TEDHMs"
      },
      "execution_count": null,
      "outputs": []
    }
  ]
}