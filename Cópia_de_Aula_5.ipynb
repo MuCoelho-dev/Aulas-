{
  "nbformat": 4,
  "nbformat_minor": 0,
  "metadata": {
    "colab": {
      "provenance": [],
      "include_colab_link": true
    },
    "kernelspec": {
      "name": "python3",
      "display_name": "Python 3"
    },
    "language_info": {
      "name": "python"
    }
  },
  "cells": [
    {
      "cell_type": "markdown",
      "metadata": {
        "id": "view-in-github",
        "colab_type": "text"
      },
      "source": [
        "<a href=\"https://colab.research.google.com/github/MuCoelho-dev/Aulas-/blob/main/C%C3%B3pia_de_Aula_5.ipynb\" target=\"_parent\"><img src=\"https://colab.research.google.com/assets/colab-badge.svg\" alt=\"Open In Colab\"/></a>"
      ]
    },
    {
      "cell_type": "markdown",
      "source": [
        "#**Aula 05 - Manipulação de Arquivo**"
      ],
      "metadata": {
        "id": "i13pCCMa_Iy5"
      }
    },
    {
      "cell_type": "markdown",
      "source": [
        "##EXERCÍCIO 23 - Lendo Arquivos"
      ],
      "metadata": {
        "id": "L00X679N_axb"
      }
    },
    {
      "cell_type": "code",
      "source": [
        "from sys import argv #importa o modulo argv da biblioteca sys\n",
        "script, texto1 = argv #Parametros que devem ser capturados no terminal\n",
        "txt = open(texto1.txt) #abrindo arquivo\n",
        "\n",
        "print(f\"Here's your file {texto1.txt}:\")#imprimindo arquivo\n",
        "print(txt.read()) #está exibindo o conteúdo de um arquivo que foi aberto anteriormente e armazenado na variável\n",
        "print(\"Type the filename again:\")# Essa linha pede para o usuário digitar novamente o nome de um arquivo\n",
        "file_again = input(\"> \") #Aqui, o programa aguarda o usuário digitar o nome do arquivo e armazena essa entrada na variável\n",
        "\n",
        "txt_again = open(file_again) #Essa linha abre o arquivo e armazena o arquivo aberto na variável\n",
        "\n",
        "print(txt_again.read()) # Por fim, ele lê e exibe o conteúdo do novo arquivo aberto.\n",
        "\n",
        "\n"
      ],
      "metadata": {
        "id": "JWBVDQYn_jtA"
      },
      "execution_count": null,
      "outputs": []
    },
    {
      "cell_type": "markdown",
      "source": [
        "###Novidades neste exercício"
      ],
      "metadata": {
        "id": "gZD47ZpuhhwI"
      }
    },
    {
      "cell_type": "markdown",
      "source": [
        "##EXERCÍCIO 24 - Lendo e Gravando Arquivos"
      ],
      "metadata": {
        "id": "oguB4QDG_zAQ"
      }
    },
    {
      "cell_type": "code",
      "source": [
        "from sys import argv\n",
        "\n",
        "script, filename = argv\n",
        "\n",
        "print(f\"We´re going to erase (filename).\") # Informa ao usuário que o arquivo especificado será apagado.\n",
        "print(\"if you dont´t want that, hit CTRL-C (^C).\") # Dá a opção de cancelar a operação com CTRL-C.\n",
        "print(\"if you do want that, hit RETURN.\") # Caso o usuário queira continuar, basta pressionar ENTER.\n",
        "\n",
        "input(\"?\") # Aguarda o usuário pressionar ENTER para prosseguir.\n",
        "\n",
        "\n",
        "print(\"Opening the file...\") # Informa que o arquivo será aberto.\n",
        "\n",
        "target = open(\"C:\\Users\\Aluno\\Downloads\\111.txt\", 'w') # Abre o arquivo no modo escrita ('w'), que apaga o conteúdo anterior e prepara para escrever novos dados\n",
        "\n",
        "print(\"Truncating the file. Goodbye!\") # Informa que o arquivo será apagado (truncado).\n",
        "\n",
        "target.truncate() # Apaga todo o conteúdo do arquivo\n",
        "\n",
        "print(\"Now I´m going to ask you for three lines.\")  # Pede ao usuário que insira três linhas de texto.\n",
        "\n",
        "line1 = input(\"line 1: \")\n",
        "line2 = input(\"line 2: \")\n",
        "line3 = input(\"line 3: \")\n",
        "# Armazena as três linhas digitadas pelo usuário em variáveis.\n",
        "\n",
        "print(\"I´m going to write these to the file.\")\n",
        "# Informa que as linhas serão escritas no arquivo.\n",
        "\n",
        "\n",
        "target.write(line1)\n",
        "target.write(\"\\n\")\n",
        "target.write(line2)\n",
        "target.write(\"\\n\")\n",
        "target.write(line3)\n",
        "target.write(\"\\n\")\n",
        "# Escreve cada linha no arquivo, adicionando uma quebra de linha após cada uma para manter o formato.\n",
        "\n",
        "print(\"And finally, we close it.\") # Informa que o arquivo será fechado.\n",
        "target.close\n",
        "# Fecha o arquivo, garantindo que tudo seja salvo corretamente."
      ],
      "metadata": {
        "id": "pxHaxgpG_5yM"
      },
      "execution_count": null,
      "outputs": []
    },
    {
      "cell_type": "markdown",
      "source": [
        "### Novidades neste exercicio\n",
        "Nova forma de abrir o arquivo (w)\n",
        "Trucamento = forma de apagar o arquivo\n",
        "Target.write = escrever em determina linha"
      ],
      "metadata": {
        "id": "641J7FsC4S9x"
      }
    },
    {
      "cell_type": "markdown",
      "source": [
        "##EXERCÍCIO 25 - Mais Arquivos"
      ],
      "metadata": {
        "id": "-HKUG4_wCYpk"
      }
    },
    {
      "cell_type": "code",
      "source": [
        "from sys import argv\n",
        "from os.path import exists #importa a função exists para verificar se um arquivo existe no sistema.\n",
        "\n",
        "script, from_file, to_file = argv\n",
        "\n",
        "print(f\"Copying from {from_file} to {to_file}\")\n",
        "# imprime uma mensagem informando de qual arquivo estamos copiando e para qual arquivo.\n",
        "\n",
        "\n",
        "#Poderíamos fazer esses dois com uma linha, como?\n",
        "in_file = open(\"/content/drive/MyDrive/111.txt\")\n",
        "indata = in_file.read()\n",
        "#abre um arquivo específico e lê todo o seu conteúdo, armazenando na variável indata\n",
        "\n",
        "print(f\"The input file is {len(indata)} bytes long\")\n",
        "#informa o tamanho do conteúdo lido, em bytes.\n",
        "\n",
        "print(f\"Does the output file exist? {exists(to_file)}\")\n",
        "#verifica se o arquivo de destino já existe, usando a função exists, e imprime o resultado\n",
        "\n",
        "print(\"Ready, hit RETURN to continue, CTRL-C to abort.\")\n",
        "input()\n",
        "#pausa e espera o usuário pressionar Enter para continuar, ou CTRL-C para abortar.\n",
        "\n",
        "out_file = open(to_file, 'w')\n",
        "out_file.write(indata)\n",
        "#Abre o arquivo de destino to_file para escrita\n",
        "\n",
        "print(\"Alright, all done.\")\n",
        "#Informa que a cópia foi concluída.\n",
        "\n",
        "out_file.close()\n",
        "in_file.close()\n",
        "#fecha ambos os arquivos para liberar recursos e garantir que tudo foi salvo corretamente."
      ],
      "metadata": {
        "colab": {
          "base_uri": "https://localhost:8080/"
        },
        "id": "js35u0ak5JLp",
        "outputId": "3760b87f-9217-460b-d563-71bbd02fefb9"
      },
      "execution_count": null,
      "outputs": [
        {
          "output_type": "stream",
          "name": "stdout",
          "text": [
            "Copying from -f to /root/.local/share/jupyter/runtime/kernel-450391f1-7281-496f-815e-a703239f9961.json\n",
            "The input file is 11 bytes long\n",
            "Does the output file exist? True\n",
            "Ready, hit RETURN to continue, CTRL-C to abort.\n",
            "\n",
            "Alright, all done.\n"
          ]
        }
      ]
    },
    {
      "cell_type": "markdown",
      "source": [],
      "metadata": {
        "id": "U4H8FSHpClpL"
      }
    },
    {
      "cell_type": "markdown",
      "source": [
        "##EXERCÍCIO 26 - Funções e Arquivos"
      ],
      "metadata": {
        "id": "K8OJxsH_NQ72"
      }
    },
    {
      "cell_type": "code",
      "source": [
        "\n",
        "from sys import argv\n",
        "\n",
        "script, input_file = argv\n",
        "\n",
        "def print_all(f):\n",
        "    print(f.read())\n",
        "#Define uma função chamada print_all que recebe um arquivo 'f' e imprime todo o seu conteúdo usando f.read()\n",
        "\n",
        "def rewind (f):\n",
        "  f.seek(0)\n",
        "#essa função, rewind, move o cursor de leitura do arquivo para o início, usando f.seek(0).\n",
        "\n",
        "def print_a_line(line_count, f):\n",
        "    print(line_count, f.readline())\n",
        "#imprime o número da linha (line_count) e a próxima linha do arquivo, usando f.readline().\n",
        "current_file = open(\"C:\\Users\\Aluno\\Downloads\\111.txt\")\n",
        "#Essa linha abre o arquivo localizado no caminho especificado e o atribui à variável current_file\n",
        "\n",
        "print(\"First let's print the whole file:\\n\")\n",
        "#Imprime uma mensagem indicando que o conteúdo do arquivo será exibido.\n",
        "print_all(current_file)\n",
        "#chama a função print_all para mostrar todo o conteúdo do arquivo.\n",
        "print(\"Now let's rewind, kind of like a tape.\")\n",
        "#Mensagem informando que o arquivo será \"rebobinado\" para o início.\n",
        "\n",
        "rewind(current_file)\n",
        "#chama a função rewind para mover o cursor de leitura para o começo do arquivo.\n",
        "print(\"Let's print three lines:\")\n",
        "#Mensagem indicando que serão impressas três linhas do arquivo.\n",
        "current_line = 1\n",
        "print_a_line(current_line, current_file)\n",
        "#Define current_line como 1 e imprime essa linha do arquivo, junto com o número.\n",
        "\n",
        "current_line = current_line + 1\n",
        "print_a_line(current_line, current_file)\n",
        "#incrementa current_line para 2 e imprime a próxima linha do arquivo.\n",
        "current_line = current_line + 1\n",
        "print_a_line(current_line, current_file)\n",
        "#Incrementa novamente para 3 e imprime a terceira linha."
      ],
      "metadata": {
        "id": "HYBQfm8JNYma"
      },
      "execution_count": null,
      "outputs": []
    },
    {
      "cell_type": "markdown",
      "source": [
        "#Novidades neste exercicio\n",
        "currente_line =  incrementação\n",
        "rewind = chamar o curso da leitura pro começo do arquivo"
      ],
      "metadata": {
        "id": "IyPG057p99wC"
      }
    },
    {
      "cell_type": "markdown",
      "source": [
        "##EXERCÍCIO 27 - Mais prática"
      ],
      "metadata": {
        "id": "QpO9d6RWO9kR"
      }
    },
    {
      "cell_type": "code",
      "source": [
        "print(\"Let's practice everything.\") #imprime na tela a frase\n",
        "print('You\\'d need to know \\'bout escapes with \\\\ that do:')#imprime na tela a frase\n",
        "print('\\n newlines and \\t tabs.')#imprime na tela a frase\n",
        "\n",
        "poem = \"\"\"\n",
        "\\tThe lovely world\n",
        "with logic so firmly planted\n",
        "cannot discern \\n the needs of love\n",
        "nor comprehend passion from intuition\n",
        "and requires an explanation\n",
        "\\n\\t\\twhere there is none.\n",
        "\"\"\"\n",
        "\"\"\"cria uma variável poem que contém um poema formatado com quebras de linha e tabulações:\\t\n",
        "antes de \"The lovely world\" insere uma tabulação no começo.\\n\n",
        "dentro do poem cria quebras de linha.\n",
        "\\n\\t\\t\n",
        "no final adiciona uma nova linha com duas tabulações, criando um espaçamento visual.\"\"\"\n",
        "\n",
        "print(\"----------\")\n",
        "#imprime uma linha de separação com traços para destacar o poema.\n",
        "print(poem)\n",
        "#Exibe o conteúdo do poema na tela, com a formatação que definimos.\n",
        "print(\"----------\")\n",
        "#Outra linha de separação após o poema.\n",
        "\n",
        "five = 10 - 2 + 3 - 6\n",
        "#Calcula uma expressão matemática: 10 - 2 + 3 - 6, que resulta em 5, e armazena na variável five.\n",
        "print(f\"This should be five: {five}\")\n",
        "#Usa uma string formatada (f-string) para mostrar o valor de five.\n",
        "def secret_formula(started):\n",
        "  jelly_beans = started * 500\n",
        "  jars = jelly_beans / 1000\n",
        "  crates = jars / 100\n",
        "  return jelly_beans, jars, crates\n",
        "\"\"\"Aqui, definimos uma função chamada secret_formula que recebe um valor started.\n",
        "Dentro dela: Calcula jelly_beans multiplicando started por 500.Calcula jars dividindo jelly_beans por 1000.\n",
        "Calcula crates dividindo jars por 100.A função retorna esses três valores.\"\"\"\n",
        "start_point = 10000\n",
        "beans, jars, crates = secret_formula(start_point)\n",
        "\n",
        "#lembre-se de que essa é uma outra maneira de formatar uma string\n",
        "print(\"With a starting point of: {}\".format(start_point))\n",
        "#é como usar a string f\"\"\n",
        "print(f\"We'd have {beans} beans, {jars} jars, and {crates} crates.\")\n",
        "\n",
        "start_point = start_point / 10\n",
        "\n",
        "print(\"We can also do that this way:\")\n",
        "formula = secret_formula(start_point)\n",
        "#essa é uma maneira fácil de aplicar uma lista a uma string de formatação\n",
        "print(\"We'd have {} beans, {} jars, and {} crates.\".format(*formula))"
      ],
      "metadata": {
        "id": "pYaxjb-KrUFG",
        "outputId": "3d107f62-db8f-4afc-a690-20a857b9f652",
        "colab": {
          "base_uri": "https://localhost:8080/"
        }
      },
      "execution_count": null,
      "outputs": [
        {
          "output_type": "stream",
          "name": "stdout",
          "text": [
            "Let's practice everything.\n",
            "You'd need to know 'bout escapes with \\ that do:\n",
            "\n",
            " newlines and \t tabs.\n",
            "----------\n",
            "\n",
            "\tThe lovely world\n",
            "with logic so firmly planted\n",
            "cannot discern \n",
            " the needs of love\n",
            "nor comprehend passion from intuition\n",
            "and requires an explanation\n",
            "\n",
            "\t\twhere there is none.\n",
            "\n",
            "----------\n",
            "This should be five: 5\n",
            "With a starting point of: 10000\n",
            "We'd have 5000000 beans, 5000.0 jars, and 50.0 crates.\n",
            "We can also do that this way:\n",
            "We'd have 500000.0 beans, 500.0 jars, and 5.0 crates.\n"
          ]
        }
      ]
    },
    {
      "cell_type": "markdown",
      "source": [
        "###Novidades neste exercício"
      ],
      "metadata": {
        "id": "umKoec_djI92"
      }
    }
  ]
}